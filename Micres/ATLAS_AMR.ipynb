{
 "cells": [
  {
   "cell_type": "code",
   "execution_count": 1,
   "id": "98804a25-5122-4f9e-b826-75b235525116",
   "metadata": {
    "tags": []
   },
   "outputs": [],
   "source": [
    "#pip install pandas"
   ]
  },
  {
   "cell_type": "code",
   "execution_count": null,
   "id": "17523fb3-a860-4d83-94ff-b562c77ad204",
   "metadata": {
    "tags": [],
    "pycharm": {
     "is_executing": true
    }
   },
   "outputs": [],
   "source": [
    "import pandas as pd\n",
    "df = pd.read_csv('~/Downloads/2023_06_15 atlas_antibiotics.csv', low_memory=False)\n",
    "df.head()"
   ]
  },
  {
   "cell_type": "code",
   "execution_count": null,
   "id": "e92bead0-e0c3-46c8-ba2a-6e5179b7aad6",
   "metadata": {
    "tags": [],
    "pycharm": {
     "is_executing": true
    }
   },
   "outputs": [],
   "source": [
    "df.info()"
   ]
  },
  {
   "cell_type": "code",
   "execution_count": null,
   "id": "5b5e7110-2786-45ba-ac2a-aadd3734233e",
   "metadata": {
    "tags": [],
    "pycharm": {
     "is_executing": true
    }
   },
   "outputs": [],
   "source": [
    "df.shape"
   ]
  },
  {
   "cell_type": "code",
   "execution_count": null,
   "id": "42af3ded-a9e8-4116-a9b1-9af593cf56d4",
   "metadata": {
    "pycharm": {
     "is_executing": true
    }
   },
   "outputs": [],
   "source": [
    "import plotly.express as px"
   ]
  },
  {
   "cell_type": "markdown",
   "id": "5eb0ea03-a14b-4a49-9809-f8eb8604462d",
   "metadata": {},
   "source": [
    "## Dash app layout uncomment code below to run"
   ]
  },
  {
   "cell_type": "code",
   "execution_count": null,
   "id": "e133b230-c463-43ee-ac31-03c6f6b5eb12",
   "metadata": {
    "tags": [],
    "pycharm": {
     "is_executing": true
    }
   },
   "outputs": [],
   "source": [
    "# # Import packages\n",
    "# from dash import Dash, html, dash_table\n",
    "# import pandas as pd\n",
    "\n",
    "# # Incorporate data\n",
    "# df = pd.read_csv('../2023_06_15_atlas_antibiotics.csv', low_memory=False)\n",
    "\n",
    "# # Initialize the app\n",
    "# app = Dash(__name__)\n",
    "\n",
    "# # App layout\n",
    "# app.layout = html.Div([\n",
    "#     html.Div(children='Micres: Cholopleth'),\n",
    "# ])\n",
    "\n",
    "# # Run the app\n",
    "# if __name__ == '__main__':\n",
    "#     app.run(debug=True)\n"
   ]
  },
  {
   "cell_type": "code",
   "execution_count": null,
   "id": "c592eb59-1837-41de-a792-53bbffde5d4f",
   "metadata": {
    "pycharm": {
     "is_executing": true
    }
   },
   "outputs": [],
   "source": [
    "list(df.columns)"
   ]
  },
  {
   "cell_type": "code",
   "execution_count": null,
   "id": "2febf509-1595-454f-b59e-78fc85871806",
   "metadata": {
    "pycharm": {
     "is_executing": true
    }
   },
   "outputs": [],
   "source": [
    "df['Ampicillin_I'].unique()"
   ]
  },
  {
   "cell_type": "code",
   "execution_count": null,
   "id": "e4bbc0ee-cfea-4943-b0b3-878299ebf6d3",
   "metadata": {
    "tags": [],
    "pycharm": {
     "is_executing": true
    }
   },
   "outputs": [],
   "source": [
    "df['Ampicillin'].unique() "
   ]
  },
  {
   "cell_type": "code",
   "execution_count": null,
   "id": "bc42e862-f86b-44ef-9b40-7d5d55695e35",
   "metadata": {
    "pycharm": {
     "is_executing": true
    }
   },
   "outputs": [],
   "source": [
    "len(df[df['Ampicillin_I'] == 'Resistant'])"
   ]
  },
  {
   "cell_type": "code",
   "execution_count": null,
   "id": "d44b66e3-3348-4fcd-8b96-abfa50cbaed2",
   "metadata": {
    "pycharm": {
     "is_executing": true
    }
   },
   "outputs": [],
   "source": [
    "Ampicillin_resistant = df[df['Ampicillin_I'] == 'Resistant']"
   ]
  },
  {
   "cell_type": "code",
   "execution_count": null,
   "id": "25e71ae1-5c4d-4ea7-9079-9cbfd32916c0",
   "metadata": {
    "pycharm": {
     "is_executing": true
    }
   },
   "outputs": [],
   "source": [
    "Ampicillin_resistant"
   ]
  },
  {
   "cell_type": "code",
   "execution_count": null,
   "id": "e535381a-e75b-4a7a-b6c4-45e5f6c5fa50",
   "metadata": {
    "tags": [],
    "pycharm": {
     "is_executing": true
    }
   },
   "outputs": [],
   "source": [
    "Ampicillin_resistant[\"Country\"].unique()"
   ]
  },
  {
   "cell_type": "code",
   "execution_count": null,
   "id": "5cd0c633-a623-43d2-b4cc-a7ea7cb3299a",
   "metadata": {
    "tags": [],
    "pycharm": {
     "is_executing": true
    }
   },
   "outputs": [],
   "source": [
    "list(Ampicillin_resistant.columns)"
   ]
  },
  {
   "cell_type": "code",
   "execution_count": null,
   "id": "fbd26cb7-c17f-4caa-ae73-f4b8222e1584",
   "metadata": {
    "tags": [],
    "pycharm": {
     "is_executing": true
    }
   },
   "outputs": [],
   "source": [
    "#Ampicillin_resistant['Ampicillin_I_count'] = Ampicillin_resistant['Ampicillin_I'].str.count(r'\\bResistant\\b', case=False)\n",
    "Ampicillin_resistant['Ampicillin_I_count'] = Ampicillin_resistant['Ampicillin_I'].apply(lambda x: 1 if \"Resistant\" in x else 0)"
   ]
  },
  {
   "cell_type": "code",
   "execution_count": null,
   "id": "e34aa7d6-d745-46ac-ba90-a3a1604cae32",
   "metadata": {
    "tags": [],
    "pycharm": {
     "is_executing": true
    }
   },
   "outputs": [],
   "source": [
    "Ampicillin_resistant_grouped_year = Ampicillin_resistant.groupby(['Country', 'Year'], as_index=False).agg({'Ampicillin_I_count': 'sum'})\n",
    "\n",
    "# Display the updated data frame after grouping and summing by 'Country' and 'Year'\n",
    "print(Ampicillin_resistant_grouped_year)"
   ]
  },
  {
   "cell_type": "code",
   "execution_count": null,
   "id": "555ce1bd-9754-47c3-9cec-05e2e705a728",
   "metadata": {
    "tags": [],
    "pycharm": {
     "is_executing": true
    }
   },
   "outputs": [],
   "source": [
    "Ampicillin_resistant_grouped_year['Ampicillin_I_count'].max()"
   ]
  },
  {
   "cell_type": "code",
   "execution_count": null,
   "id": "a8188986-926a-450d-b90e-8c6eb44f7727",
   "metadata": {
    "tags": [],
    "pycharm": {
     "is_executing": true
    }
   },
   "outputs": [],
   "source": [
    "Ampicillin_resistant_grouped_year['Ampicillin_I_count'].min()"
   ]
  },
  {
   "cell_type": "code",
   "execution_count": null,
   "id": "1f66aee3-ee44-4b10-9e20-e32d18dd2c41",
   "metadata": {
    "tags": [],
    "pycharm": {
     "is_executing": true
    }
   },
   "outputs": [],
   "source": [
    "country_codes = {}\n",
    "\n",
    "# Read the text file and populate the dictionary\n",
    "#with open(\"../test.txt\", \"r\") as file:\n",
    "with open(\"../country_codes.txt\", \"r\") as file:\n",
    "    for line in file:\n",
    "#        print(line.strip().split(\": \"))\n",
    "        country, code = line.strip().split(\": \")\n",
    "        country_codes[country] = code\n",
    "\n",
    "#print(country_codes)        \n",
    "# Print the entire dictionary\n",
    "#for country, code in country_codes.items():\n",
    "#    print(f\"{country}: {code}\")"
   ]
  },
  {
   "cell_type": "code",
   "execution_count": null,
   "id": "513ddf11-312a-4e5d-b8ab-8990094e3ab8",
   "metadata": {
    "tags": [],
    "pycharm": {
     "is_executing": true
    }
   },
   "outputs": [],
   "source": [
    "Ampicillin_resistant_grouped_year[\"CountryCode\"] = Ampicillin_resistant_grouped_year[\"Country\"].map(country_codes)"
   ]
  },
  {
   "cell_type": "code",
   "execution_count": null,
   "id": "751cdc6e-12b0-4368-a1c9-334137259666",
   "metadata": {
    "pycharm": {
     "is_executing": true
    }
   },
   "outputs": [],
   "source": [
    "import plotly.express as px\n",
    "fig = px.choropleth(Ampicillin_resistant_grouped_year, locations=\"CountryCode\", color=\"Ampicillin_I_count\", hover_name=\"Country\", animation_frame=\"Year\", range_color=[20,500])\n",
    "fig.show()"
   ]
  },
  {
   "cell_type": "markdown",
   "id": "4ac440a5-7203-4b51-b563-09a23514b4e1",
   "metadata": {},
   "source": [
    "To scale up below the plot to each antibiotic not ampicillin only,"
   ]
  },
  {
   "cell_type": "markdown",
   "id": "2489eb71-4286-4e9b-8e4c-366bbbd01d6f",
   "metadata": {},
   "source": [
    "## General representation of the entire antibiotic resistance burden for all antibiotics combined plot data proccesing"
   ]
  },
  {
   "cell_type": "code",
   "execution_count": null,
   "id": "79abf385-d8a8-49f1-8595-b3753f6ba550",
   "metadata": {
    "tags": [],
    "pycharm": {
     "is_executing": true
    }
   },
   "outputs": [],
   "source": [
    "import pandas as pd\n",
    "\n",
    "# Assuming you have a data frame named df\n",
    "# Find columns ending with \"_I\" all antibiotics classification have this.\n",
    "I_columns = [col for col in df.columns if col.endswith(\"_I\")]\n",
    "\n",
    "# Convert columns ending with \"_I\" to string data type\n",
    "df[I_columns] = df[I_columns].astype(str)\n",
    "\n",
    "# Perform the specified operation on each column ending with \"_I\"\n",
    "for column in I_columns:\n",
    "    new_column_name = f\"{column}_restitance_count\"  # Create a new column name based on the original column\n",
    "    df[new_column_name] = df[column].apply(lambda x: 1 if \"Resistant\" in x else 0)\n",
    "\n",
    "# Display the updated data frame\n",
    "df.head()"
   ]
  },
  {
   "cell_type": "code",
   "execution_count": null,
   "id": "fc8aa22c-21e2-4f79-bbf9-901c971ffbb3",
   "metadata": {
    "tags": [],
    "pycharm": {
     "is_executing": true
    }
   },
   "outputs": [],
   "source": [
    "# Find columns ending with \"_restitance_count\"\n",
    "count_columns = [col for col in df.columns if col.endswith(\"_restitance_count\")]\n",
    "\n",
    "# Sum the values from the count columns and store the result in a new column \"total_count\"\n",
    "df['total_restitance_count'] = df[count_columns].sum(axis=1)\n",
    "\n",
    "# Display the updated data frame\n",
    "df.head()\n"
   ]
  },
  {
   "cell_type": "code",
   "execution_count": null,
   "id": "173a11cd-b539-40c8-b995-f7f4ddd97384",
   "metadata": {
    "tags": [],
    "pycharm": {
     "is_executing": true
    }
   },
   "outputs": [],
   "source": [
    "\n",
    "# Assuming you have a data frame named df\n",
    "# ... (Code to perform previous operations)\n",
    "\n",
    "# Group by 'Country' and sum the 'total_count' within each group\n",
    "df_grouped_general= df.groupby('Country', as_index=False).agg({'total_restitance_count': 'sum'})\n",
    "\n",
    "# Display the updated data frame after grouping and summing by 'Country'\n",
    "print(df_grouped_general)"
   ]
  },
  {
   "cell_type": "code",
   "execution_count": null,
   "id": "51cdd474-adb1-4b01-bc1b-f37910200838",
   "metadata": {
    "tags": [],
    "pycharm": {
     "is_executing": true
    }
   },
   "outputs": [],
   "source": [
    "# Group by 'Country' and 'Year' and sum the 'total_count' within each group\n",
    "df_grouped_year = df.groupby(['Country', 'Year'], as_index=False).agg({'total_restitance_count': 'sum'})\n",
    "\n",
    "# Display the updated data frame after grouping and summing by 'Country' and 'Year'\n",
    "print(df_grouped_year)"
   ]
  },
  {
   "cell_type": "code",
   "execution_count": null,
   "id": "76fe7c06-3086-4011-a88d-cc7c4c750468",
   "metadata": {
    "tags": [],
    "pycharm": {
     "is_executing": true
    }
   },
   "outputs": [],
   "source": [
    "country_codes = {}\n",
    "\n",
    "# Read the text file and populate the dictionary\n",
    "#with open(\"../test.txt\", \"r\") as file:\n",
    "with open(\"../country_codes.txt\", \"r\") as file:\n",
    "    for line in file:\n",
    "#        print(line.strip().split(\": \"))\n",
    "        country, code = line.strip().split(\": \")\n",
    "        country_codes[country] = code\n",
    "\n",
    "#print(country_codes)        \n",
    "# Print the entire dictionary\n",
    "#for country, code in country_codes.items():\n",
    "#    print(f\"{country}: {code}\")"
   ]
  },
  {
   "cell_type": "code",
   "execution_count": null,
   "id": "91018d04-456b-419d-b742-7dad1704d0ff",
   "metadata": {
    "tags": [],
    "pycharm": {
     "is_executing": true
    }
   },
   "outputs": [],
   "source": [
    "df_grouped_year['total_restitance_count'].max()"
   ]
  },
  {
   "cell_type": "code",
   "execution_count": null,
   "id": "4a46475e-afed-4776-8d9f-7c4acc5583fa",
   "metadata": {
    "tags": [],
    "pycharm": {
     "is_executing": true
    }
   },
   "outputs": [],
   "source": [
    "df_grouped_general[\"CountryCode\"] = df_grouped_general[\"Country\"].map(country_codes)"
   ]
  },
  {
   "cell_type": "code",
   "execution_count": null,
   "id": "0d0fa6d6-9c7d-477c-b230-e4ef6b8a6e1c",
   "metadata": {
    "tags": [],
    "pycharm": {
     "is_executing": true
    }
   },
   "outputs": [],
   "source": [
    "df_grouped_year[\"CountryCode\"] = df_grouped_year[\"Country\"].map(country_codes)"
   ]
  },
  {
   "cell_type": "markdown",
   "id": "748a47a7-af32-4171-957f-952825dc2bce",
   "metadata": {},
   "source": [
    "## General representation of the entire antibiotic resistance burden for all antibiotics combined plot"
   ]
  },
  {
   "cell_type": "code",
   "execution_count": null,
   "id": "514d6cff-2a1d-4dae-a253-8114f8d1c233",
   "metadata": {
    "tags": [],
    "pycharm": {
     "is_executing": true
    }
   },
   "outputs": [],
   "source": [
    "#Per year\n",
    "import plotly.express as px\n",
    "fig = px.choropleth(df_grouped_year, locations=\"CountryCode\", color=\"total_restitance_count\", hover_name=\"Country\", animation_frame=\"Year\", range_color=[500,10000])\n",
    "fig.show()"
   ]
  },
  {
   "cell_type": "code",
   "execution_count": null,
   "id": "6cdecefa-dae6-4f2b-91c0-436f91b419e8",
   "metadata": {
    "tags": [],
    "pycharm": {
     "is_executing": true
    }
   },
   "outputs": [],
   "source": [
    "#Across all time\n",
    "import plotly.express as px\n",
    "fig = px.choropleth(df_grouped_general, locations=\"CountryCode\", color=\"total_restitance_count\", hover_name=\"Country\", range_color=[500,100000])\n",
    "fig.show()\n",
    "#scale is different from the first"
   ]
  },
  {
   "cell_type": "code",
   "execution_count": null,
   "id": "22311b41-6248-4d0b-993e-0908b12e3af9",
   "metadata": {
    "pycharm": {
     "is_executing": true
    }
   },
   "outputs": [],
   "source": []
  }
 ],
 "metadata": {
  "kernelspec": {
   "display_name": "Python 3 (ipykernel)",
   "language": "python",
   "name": "python3"
  },
  "language_info": {
   "codemirror_mode": {
    "name": "ipython",
    "version": 3
   },
   "file_extension": ".py",
   "mimetype": "text/x-python",
   "name": "python",
   "nbconvert_exporter": "python",
   "pygments_lexer": "ipython3",
   "version": "3.11.3"
  }
 },
 "nbformat": 4,
 "nbformat_minor": 5
}